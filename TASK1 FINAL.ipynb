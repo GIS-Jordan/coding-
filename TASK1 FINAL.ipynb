{
 "cells": [
  {
   "cell_type": "code",
   "execution_count": null,
   "id": "240709f3",
   "metadata": {},
   "outputs": [],
   "source": [
    "#Task 1 Program 1\n",
    "#Author: Jordan Maddock\n",
    "#20622044"
   ]
  },
  {
   "cell_type": "code",
   "execution_count": 1,
   "id": "96d2e740",
   "metadata": {},
   "outputs": [
    {
     "name": "stdout",
     "output_type": "stream",
     "text": [
      "Welcome! To perform a conversion please type the number beside your selection and press enter.\n",
      "1 Convert decimal degrees -> degrees, minutes and seconds \n",
      "2 convert degrees, minutes and seconds -> decimal degrees \n",
      "3 exit 2\n",
      "Input degrees as an integer: 32\n",
      "Input minutes as an integer: 23\n",
      "Input seconds as an integer: 2\n",
      "32.38388888888889\n",
      "Welcome! To perform a conversion please type the number beside your selection and press enter.\n",
      "1 Convert decimal degrees -> degrees, minutes and seconds \n",
      "2 convert degrees, minutes and seconds -> decimal degrees \n",
      "3 exit 3\n",
      "Thankyou for using my converter\n"
     ]
    }
   ],
   "source": [
    "def main():\n",
    "      while True:  \n",
    "        welcome_message = int(input(\"Welcome! To perform a conversion please type the number beside your selection and press enter.\\n1 Convert decimal degrees -> degrees, minutes and seconds \\n2 convert degrees, minutes and seconds -> decimal degrees \\n3 exit \"))\n",
    "        if welcome_message == 1: \n",
    "                decimal_degree_angle = float(input(\"input decimal degrees: \"))\n",
    "                def from_decimal_degrees(decimal_degree_angle): #converts decimal degrees to dms\n",
    "                    deg = int(decimal_degree_angle)\n",
    "                    temp = 60 * (decimal_degree_angle - deg)\n",
    "                    mins = int(temp)\n",
    "                    sec = round(60 * (temp - mins))\n",
    "                    print(deg, mins, sec)\n",
    "                from_decimal_degrees(decimal_degree_angle)   \n",
    "    \n",
    "        elif welcome_message == 2:\n",
    "            \n",
    "            d_in = int(input(\"Input degrees as an integer: \")) #user to separately input degrees, mins, secs\n",
    "            m_in = int(input(\"Input minutes as an integer: \"))\n",
    "            s_in = int(input(\"Input seconds as an integer: \"))\n",
    "            def to_decimal_degrees(degrees, minutes, seconds): #converts dms to decimal degrees\n",
    "                degree_angle = float(d_in + (m_in / 60) + (s_in / 3600))\n",
    "                print(degree_angle)\n",
    "            to_decimal_degrees(d_in, m_in, s_in)\n",
    "                \n",
    "        else:\n",
    "            print(\"Thankyou for using my converter\")\n",
    "            break           \n",
    "main()\n"
   ]
  },
  {
   "cell_type": "code",
   "execution_count": null,
   "id": "415b51e7",
   "metadata": {},
   "outputs": [],
   "source": []
  },
  {
   "cell_type": "code",
   "execution_count": null,
   "id": "61220022",
   "metadata": {},
   "outputs": [],
   "source": []
  }
 ],
 "metadata": {
  "kernelspec": {
   "display_name": "Python 3 (ipykernel)",
   "language": "python",
   "name": "python3"
  },
  "language_info": {
   "codemirror_mode": {
    "name": "ipython",
    "version": 3
   },
   "file_extension": ".py",
   "mimetype": "text/x-python",
   "name": "python",
   "nbconvert_exporter": "python",
   "pygments_lexer": "ipython3",
   "version": "3.9.4"
  }
 },
 "nbformat": 4,
 "nbformat_minor": 5
}